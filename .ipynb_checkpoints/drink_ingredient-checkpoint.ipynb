{
 "cells": [
  {
   "cell_type": "code",
   "execution_count": 1,
   "metadata": {},
   "outputs": [],
   "source": [
    "import pandas as pd\n",
    "import requests\n",
    "import json\n",
    "import matplotlib\n",
    "pd.options.display.max_rows = 999\n",
    "pd.options.display.max_columns = 999\n",
    "\n",
    "%matplotlib inline"
   ]
  },
  {
   "cell_type": "code",
   "execution_count": 2,
   "metadata": {},
   "outputs": [],
   "source": [
    "url = \"https://www.thecocktaildb.com/api/json/v1/1/search.php?s=kami\"\n"
   ]
  },
  {
   "cell_type": "code",
   "execution_count": 3,
   "metadata": {},
   "outputs": [],
   "source": [
    "rd = requests.get(url)"
   ]
  },
  {
   "cell_type": "code",
   "execution_count": 4,
   "metadata": {},
   "outputs": [
    {
     "data": {
      "text/plain": [
       "'{\"drinks\":[{\"idDrink\":\"11600\",\"strDrink\":\"Kamikaze\",\"strDrinkAlternate\":null,\"strDrinkES\":null,\"strDrinkDE\":null,\"strDrinkFR\":null,\"strDrinkZH-HANS\":null,\"strDrinkZH-HANT\":null,\"strTags\":\"IBA,NewEra\",\"strVideo\":null,\"strCategory\":\"Ordinary Drink\",\"strIBA\":\"New Era Drinks\",\"strAlcoholic\":\"Alcoholic\",\"strGlass\":\"Cocktail glass\",\"strInstructions\":\"Shake all ingredients together with ice. Strain into glass, garnish and serve.\",\"strInstructionsES\":null,\"strInstructionsDE\":\"Alle Zutaten zusammen mit Eis sch\\\\u00fctteln. In ein Glas abseihen, garnieren und servieren.\",\"strInstructionsFR\":null,\"strInstructionsZH-HANS\":null,\"strInstructionsZH-HANT\":null,\"strDrinkThumb\":\"https:\\\\/\\\\/www.thecocktaildb.com\\\\/images\\\\/media\\\\/drink\\\\/xa58bb1504373204.jpg\",\"strIngredient1\":\"Vodka\",\"strIngredient2\":\"Triple sec\",\"strIngredient3\":\"Lime juice\",\"strIngredient4\":null,\"strIngredient5\":null,\"strIngredient6\":null,\"strIngredient7\":null,\"strIngredient8\":null,\"strIngredient9\":null,\"strIngredient10\":null,\"strIngredient11\":null,\"strIngredient12\":null,\"strIngredient13\":null,\"strIngredient14\":null,\"strIngredient15\":null,\"strMeasure1\":\"1 oz \",\"strMeasure2\":\"1 oz \",\"strMeasure3\":\"1 oz \",\"strMeasure4\":null,\"strMeasure5\":null,\"strMeasure6\":null,\"strMeasure7\":null,\"strMeasure8\":null,\"strMeasure9\":null,\"strMeasure10\":null,\"strMeasure11\":null,\"strMeasure12\":null,\"strMeasure13\":null,\"strMeasure14\":null,\"strMeasure15\":null,\"strCreativeCommonsConfirmed\":\"No\",\"dateModified\":\"2017-09-02 18:26:44\"}]}'"
      ]
     },
     "execution_count": 4,
     "metadata": {},
     "output_type": "execute_result"
    }
   ],
   "source": [
    "rd.text"
   ]
  },
  {
   "cell_type": "code",
   "execution_count": 5,
   "metadata": {},
   "outputs": [
    {
     "data": {
      "text/plain": [
       "{'drinks': [{'idDrink': '11600',\n",
       "   'strDrink': 'Kamikaze',\n",
       "   'strDrinkAlternate': None,\n",
       "   'strDrinkES': None,\n",
       "   'strDrinkDE': None,\n",
       "   'strDrinkFR': None,\n",
       "   'strDrinkZH-HANS': None,\n",
       "   'strDrinkZH-HANT': None,\n",
       "   'strTags': 'IBA,NewEra',\n",
       "   'strVideo': None,\n",
       "   'strCategory': 'Ordinary Drink',\n",
       "   'strIBA': 'New Era Drinks',\n",
       "   'strAlcoholic': 'Alcoholic',\n",
       "   'strGlass': 'Cocktail glass',\n",
       "   'strInstructions': 'Shake all ingredients together with ice. Strain into glass, garnish and serve.',\n",
       "   'strInstructionsES': None,\n",
       "   'strInstructionsDE': 'Alle Zutaten zusammen mit Eis schütteln. In ein Glas abseihen, garnieren und servieren.',\n",
       "   'strInstructionsFR': None,\n",
       "   'strInstructionsZH-HANS': None,\n",
       "   'strInstructionsZH-HANT': None,\n",
       "   'strDrinkThumb': 'https://www.thecocktaildb.com/images/media/drink/xa58bb1504373204.jpg',\n",
       "   'strIngredient1': 'Vodka',\n",
       "   'strIngredient2': 'Triple sec',\n",
       "   'strIngredient3': 'Lime juice',\n",
       "   'strIngredient4': None,\n",
       "   'strIngredient5': None,\n",
       "   'strIngredient6': None,\n",
       "   'strIngredient7': None,\n",
       "   'strIngredient8': None,\n",
       "   'strIngredient9': None,\n",
       "   'strIngredient10': None,\n",
       "   'strIngredient11': None,\n",
       "   'strIngredient12': None,\n",
       "   'strIngredient13': None,\n",
       "   'strIngredient14': None,\n",
       "   'strIngredient15': None,\n",
       "   'strMeasure1': '1 oz ',\n",
       "   'strMeasure2': '1 oz ',\n",
       "   'strMeasure3': '1 oz ',\n",
       "   'strMeasure4': None,\n",
       "   'strMeasure5': None,\n",
       "   'strMeasure6': None,\n",
       "   'strMeasure7': None,\n",
       "   'strMeasure8': None,\n",
       "   'strMeasure9': None,\n",
       "   'strMeasure10': None,\n",
       "   'strMeasure11': None,\n",
       "   'strMeasure12': None,\n",
       "   'strMeasure13': None,\n",
       "   'strMeasure14': None,\n",
       "   'strMeasure15': None,\n",
       "   'strCreativeCommonsConfirmed': 'No',\n",
       "   'dateModified': '2017-09-02 18:26:44'}]}"
      ]
     },
     "execution_count": 5,
     "metadata": {},
     "output_type": "execute_result"
    }
   ],
   "source": [
    "rd.json()"
   ]
  },
  {
   "cell_type": "code",
   "execution_count": 6,
   "metadata": {},
   "outputs": [
    {
     "data": {
      "text/plain": [
       "dict_keys(['drinks'])"
      ]
     },
     "execution_count": 6,
     "metadata": {},
     "output_type": "execute_result"
    }
   ],
   "source": [
    "rd.json().keys()"
   ]
  },
  {
   "cell_type": "code",
   "execution_count": 7,
   "metadata": {},
   "outputs": [
    {
     "data": {
      "text/plain": [
       "[{'idDrink': '11600',\n",
       "  'strDrink': 'Kamikaze',\n",
       "  'strDrinkAlternate': None,\n",
       "  'strDrinkES': None,\n",
       "  'strDrinkDE': None,\n",
       "  'strDrinkFR': None,\n",
       "  'strDrinkZH-HANS': None,\n",
       "  'strDrinkZH-HANT': None,\n",
       "  'strTags': 'IBA,NewEra',\n",
       "  'strVideo': None,\n",
       "  'strCategory': 'Ordinary Drink',\n",
       "  'strIBA': 'New Era Drinks',\n",
       "  'strAlcoholic': 'Alcoholic',\n",
       "  'strGlass': 'Cocktail glass',\n",
       "  'strInstructions': 'Shake all ingredients together with ice. Strain into glass, garnish and serve.',\n",
       "  'strInstructionsES': None,\n",
       "  'strInstructionsDE': 'Alle Zutaten zusammen mit Eis schütteln. In ein Glas abseihen, garnieren und servieren.',\n",
       "  'strInstructionsFR': None,\n",
       "  'strInstructionsZH-HANS': None,\n",
       "  'strInstructionsZH-HANT': None,\n",
       "  'strDrinkThumb': 'https://www.thecocktaildb.com/images/media/drink/xa58bb1504373204.jpg',\n",
       "  'strIngredient1': 'Vodka',\n",
       "  'strIngredient2': 'Triple sec',\n",
       "  'strIngredient3': 'Lime juice',\n",
       "  'strIngredient4': None,\n",
       "  'strIngredient5': None,\n",
       "  'strIngredient6': None,\n",
       "  'strIngredient7': None,\n",
       "  'strIngredient8': None,\n",
       "  'strIngredient9': None,\n",
       "  'strIngredient10': None,\n",
       "  'strIngredient11': None,\n",
       "  'strIngredient12': None,\n",
       "  'strIngredient13': None,\n",
       "  'strIngredient14': None,\n",
       "  'strIngredient15': None,\n",
       "  'strMeasure1': '1 oz ',\n",
       "  'strMeasure2': '1 oz ',\n",
       "  'strMeasure3': '1 oz ',\n",
       "  'strMeasure4': None,\n",
       "  'strMeasure5': None,\n",
       "  'strMeasure6': None,\n",
       "  'strMeasure7': None,\n",
       "  'strMeasure8': None,\n",
       "  'strMeasure9': None,\n",
       "  'strMeasure10': None,\n",
       "  'strMeasure11': None,\n",
       "  'strMeasure12': None,\n",
       "  'strMeasure13': None,\n",
       "  'strMeasure14': None,\n",
       "  'strMeasure15': None,\n",
       "  'strCreativeCommonsConfirmed': 'No',\n",
       "  'dateModified': '2017-09-02 18:26:44'}]"
      ]
     },
     "execution_count": 7,
     "metadata": {},
     "output_type": "execute_result"
    }
   ],
   "source": [
    "rd.json()[\"drinks\"]"
   ]
  },
  {
   "cell_type": "code",
   "execution_count": 8,
   "metadata": {},
   "outputs": [],
   "source": [
    "dfd = pd.DataFrame(rd.json()[\"drinks\"])"
   ]
  },
  {
   "cell_type": "code",
   "execution_count": 28,
   "metadata": {},
   "outputs": [
    {
     "data": {
      "text/html": [
       "<div>\n",
       "<style scoped>\n",
       "    .dataframe tbody tr th:only-of-type {\n",
       "        vertical-align: middle;\n",
       "    }\n",
       "\n",
       "    .dataframe tbody tr th {\n",
       "        vertical-align: top;\n",
       "    }\n",
       "\n",
       "    .dataframe thead th {\n",
       "        text-align: right;\n",
       "    }\n",
       "</style>\n",
       "<table border=\"1\" class=\"dataframe\">\n",
       "  <thead>\n",
       "    <tr style=\"text-align: right;\">\n",
       "      <th></th>\n",
       "      <th>idDrink</th>\n",
       "      <th>strDrink</th>\n",
       "      <th>strTags</th>\n",
       "      <th>strCategory</th>\n",
       "      <th>strIBA</th>\n",
       "      <th>strAlcoholic</th>\n",
       "      <th>strGlass</th>\n",
       "      <th>strInstructions</th>\n",
       "      <th>strInstructionsDE</th>\n",
       "      <th>strDrinkThumb</th>\n",
       "      <th>strIngredient1</th>\n",
       "      <th>strIngredient2</th>\n",
       "      <th>strIngredient3</th>\n",
       "      <th>strMeasure1</th>\n",
       "      <th>strMeasure2</th>\n",
       "      <th>strMeasure3</th>\n",
       "      <th>strCreativeCommonsConfirmed</th>\n",
       "      <th>dateModified</th>\n",
       "    </tr>\n",
       "  </thead>\n",
       "  <tbody>\n",
       "    <tr>\n",
       "      <th>0</th>\n",
       "      <td>11600</td>\n",
       "      <td>Kamikaze</td>\n",
       "      <td>IBA,NewEra</td>\n",
       "      <td>Ordinary Drink</td>\n",
       "      <td>New Era Drinks</td>\n",
       "      <td>Alcoholic</td>\n",
       "      <td>Cocktail glass</td>\n",
       "      <td>Shake all ingredients together with ice. Strai...</td>\n",
       "      <td>Alle Zutaten zusammen mit Eis schütteln. In ei...</td>\n",
       "      <td>https://www.thecocktaildb.com/images/media/dri...</td>\n",
       "      <td>Vodka</td>\n",
       "      <td>Triple sec</td>\n",
       "      <td>Lime juice</td>\n",
       "      <td>1 oz</td>\n",
       "      <td>1 oz</td>\n",
       "      <td>1 oz</td>\n",
       "      <td>No</td>\n",
       "      <td>2017-09-02 18:26:44</td>\n",
       "    </tr>\n",
       "  </tbody>\n",
       "</table>\n",
       "</div>"
      ],
      "text/plain": [
       "  idDrink  strDrink     strTags     strCategory          strIBA strAlcoholic  \\\n",
       "0   11600  Kamikaze  IBA,NewEra  Ordinary Drink  New Era Drinks    Alcoholic   \n",
       "\n",
       "         strGlass                                    strInstructions  \\\n",
       "0  Cocktail glass  Shake all ingredients together with ice. Strai...   \n",
       "\n",
       "                                   strInstructionsDE  \\\n",
       "0  Alle Zutaten zusammen mit Eis schütteln. In ei...   \n",
       "\n",
       "                                       strDrinkThumb strIngredient1  \\\n",
       "0  https://www.thecocktaildb.com/images/media/dri...          Vodka   \n",
       "\n",
       "  strIngredient2 strIngredient3 strMeasure1 strMeasure2 strMeasure3  \\\n",
       "0     Triple sec     Lime juice       1 oz        1 oz        1 oz    \n",
       "\n",
       "  strCreativeCommonsConfirmed         dateModified  \n",
       "0                          No  2017-09-02 18:26:44  "
      ]
     },
     "execution_count": 28,
     "metadata": {},
     "output_type": "execute_result"
    }
   ],
   "source": [
    "dfd.dropna(axis='columns', how='all')"
   ]
  },
  {
   "cell_type": "code",
   "execution_count": 29,
   "metadata": {},
   "outputs": [],
   "source": [
    "def drinks_ing(name):\n",
    "    url = f\"https://www.thecocktaildb.com/api/json/v1/1/filter.php?i={str(name)}\"\n",
    "    r = requests.get(url)\n",
    "    dfd = pd.DataFrame(r.json()[\"drinks\"])\n",
    "    return dfd.dropna(axis='columns', how='all')"
   ]
  },
  {
   "cell_type": "code",
   "execution_count": 11,
   "metadata": {},
   "outputs": [],
   "source": [
    "search_id = drinks_ing(\"vodka\")"
   ]
  },
  {
   "cell_type": "code",
   "execution_count": 19,
   "metadata": {},
   "outputs": [
    {
     "name": "stdout",
     "output_type": "stream",
     "text": [
      "Enter the Cocktailnumber to see the recipe.6\n"
     ]
    }
   ],
   "source": [
    "inp = input(\"Enter the Cocktailnumber to see the recipe.\")"
   ]
  },
  {
   "cell_type": "code",
   "execution_count": 13,
   "metadata": {},
   "outputs": [
    {
     "data": {
      "text/plain": [
       "str"
      ]
     },
     "execution_count": 13,
     "metadata": {},
     "output_type": "execute_result"
    }
   ],
   "source": [
    "type(inp)"
   ]
  },
  {
   "cell_type": "code",
   "execution_count": 22,
   "metadata": {},
   "outputs": [],
   "source": [
    "id = search_id.loc[int(inp), \"idDrink\"]"
   ]
  },
  {
   "cell_type": "code",
   "execution_count": 23,
   "metadata": {},
   "outputs": [
    {
     "data": {
      "text/plain": [
       "'14560'"
      ]
     },
     "execution_count": 23,
     "metadata": {},
     "output_type": "execute_result"
    }
   ],
   "source": [
    "id\n"
   ]
  },
  {
   "cell_type": "code",
   "execution_count": 26,
   "metadata": {},
   "outputs": [],
   "source": [
    "def drink_id(name):\n",
    "    url = f\"https://www.thecocktaildb.com/api/json/v1/1/lookup.php?i={name}\"\n",
    "    r = requests.get(url)\n",
    "    dfid = pd.DataFrame(r.json()[\"drinks\"])\n",
    "    return dfid.dropna(axis='columns', how='all')"
   ]
  },
  {
   "cell_type": "code",
   "execution_count": 27,
   "metadata": {},
   "outputs": [
    {
     "data": {
      "text/html": [
       "<div>\n",
       "<style scoped>\n",
       "    .dataframe tbody tr th:only-of-type {\n",
       "        vertical-align: middle;\n",
       "    }\n",
       "\n",
       "    .dataframe tbody tr th {\n",
       "        vertical-align: top;\n",
       "    }\n",
       "\n",
       "    .dataframe thead th {\n",
       "        text-align: right;\n",
       "    }\n",
       "</style>\n",
       "<table border=\"1\" class=\"dataframe\">\n",
       "  <thead>\n",
       "    <tr style=\"text-align: right;\">\n",
       "      <th></th>\n",
       "      <th>idDrink</th>\n",
       "      <th>strDrink</th>\n",
       "      <th>strCategory</th>\n",
       "      <th>strAlcoholic</th>\n",
       "      <th>strGlass</th>\n",
       "      <th>strInstructions</th>\n",
       "      <th>strInstructionsDE</th>\n",
       "      <th>strDrinkThumb</th>\n",
       "      <th>strIngredient1</th>\n",
       "      <th>strIngredient2</th>\n",
       "      <th>strIngredient3</th>\n",
       "      <th>strIngredient4</th>\n",
       "      <th>strMeasure1</th>\n",
       "      <th>strMeasure2</th>\n",
       "      <th>strMeasure3</th>\n",
       "      <th>strMeasure4</th>\n",
       "      <th>strCreativeCommonsConfirmed</th>\n",
       "      <th>dateModified</th>\n",
       "    </tr>\n",
       "  </thead>\n",
       "  <tbody>\n",
       "    <tr>\n",
       "      <th>0</th>\n",
       "      <td>14560</td>\n",
       "      <td>A.D.M. (After Dinner Mint)</td>\n",
       "      <td>Cocktail</td>\n",
       "      <td>Alcoholic</td>\n",
       "      <td>Irish coffee cup</td>\n",
       "      <td>shake vigorously</td>\n",
       "      <td>kräftig schütteln</td>\n",
       "      <td>https://www.thecocktaildb.com/images/media/dri...</td>\n",
       "      <td>White Creme de Menthe</td>\n",
       "      <td>Southern Comfort</td>\n",
       "      <td>Vodka</td>\n",
       "      <td>Hot chocolate</td>\n",
       "      <td>1/2 oz</td>\n",
       "      <td>3/4 oz</td>\n",
       "      <td>1/2 oz</td>\n",
       "      <td>Fill with</td>\n",
       "      <td>No</td>\n",
       "      <td>2016-08-31 19:53:20</td>\n",
       "    </tr>\n",
       "  </tbody>\n",
       "</table>\n",
       "</div>"
      ],
      "text/plain": [
       "  idDrink                    strDrink strCategory strAlcoholic  \\\n",
       "0   14560  A.D.M. (After Dinner Mint)    Cocktail    Alcoholic   \n",
       "\n",
       "           strGlass   strInstructions  strInstructionsDE  \\\n",
       "0  Irish coffee cup  shake vigorously  kräftig schütteln   \n",
       "\n",
       "                                       strDrinkThumb         strIngredient1  \\\n",
       "0  https://www.thecocktaildb.com/images/media/dri...  White Creme de Menthe   \n",
       "\n",
       "     strIngredient2 strIngredient3 strIngredient4 strMeasure1 strMeasure2  \\\n",
       "0  Southern Comfort          Vodka  Hot chocolate     1/2 oz      3/4 oz    \n",
       "\n",
       "  strMeasure3 strMeasure4 strCreativeCommonsConfirmed         dateModified  \n",
       "0     1/2 oz   Fill with                           No  2016-08-31 19:53:20  "
      ]
     },
     "execution_count": 27,
     "metadata": {},
     "output_type": "execute_result"
    }
   ],
   "source": [
    "drink_id(id)"
   ]
  },
  {
   "cell_type": "code",
   "execution_count": null,
   "metadata": {},
   "outputs": [],
   "source": [
    "url =\"https://www.thecocktaildb.com/api/json/v1/1/search.php?i=vodka\"\n",
    "r = requests.get(url)\n",
    "dfd = pd.DataFrame(r.json()[\"drinks\"])"
   ]
  },
  {
   "cell_type": "code",
   "execution_count": null,
   "metadata": {},
   "outputs": [],
   "source": [
    "listid = dfd[\"idDrink\"].values.tolist()\n",
    "listid"
   ]
  },
  {
   "cell_type": "code",
   "execution_count": null,
   "metadata": {},
   "outputs": [],
   "source": [
    "final = []\n",
    "for id in listid:\n",
    "    url =f\"https://www.themealdb.com/api/json/v1/1/lookup.php?i={id}\"\n",
    "    r = requests.get(url)\n",
    "    final.append(r.json()[\"drinks\"])\n",
    "\n",
    "final2=[]\n",
    "for x in final:\n",
    "    final2.append(x[0])\n",
    "pd.DataFrame(final2)"
   ]
  }
 ],
 "metadata": {
  "kernelspec": {
   "display_name": "Python 3",
   "language": "python",
   "name": "python3"
  },
  "language_info": {
   "codemirror_mode": {
    "name": "ipython",
    "version": 3
   },
   "file_extension": ".py",
   "mimetype": "text/x-python",
   "name": "python",
   "nbconvert_exporter": "python",
   "pygments_lexer": "ipython3",
   "version": "3.7.4"
  }
 },
 "nbformat": 4,
 "nbformat_minor": 2
}
