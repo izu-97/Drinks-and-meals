{
 "cells": [
  {
   "cell_type": "markdown",
   "metadata": {},
   "source": [
    "## Function to get user selection of the main component of the food and provide list of options\n"
   ]
  },
  {
   "cell_type": "code",
   "execution_count": 1,
   "metadata": {},
   "outputs": [],
   "source": [
    "import pandas as pd\n",
    "import requests\n",
    "import json\n",
    "import matplotlib\n",
    "\n",
    "\n",
    "%matplotlib inline\n"
   ]
  },
  {
   "cell_type": "code",
   "execution_count": 2,
   "metadata": {},
   "outputs": [],
   "source": [
    "# this function returns the list of the meals given origin\n",
    "def meal_main_ingredient(ingredient):\n",
    "    url = f\"https://www.themealdb.com/api/json/v1/1/filter.php?i={str(ingredient)}\"\n",
    "    r = requests.get(url)\n",
    "    df = pd.DataFrame(r.json()[\"meals\"])\n",
    "    return df.dropna(axis='columns', how='all')"
   ]
  },
  {
   "cell_type": "code",
   "execution_count": 3,
   "metadata": {},
   "outputs": [
    {
     "data": {
      "text/html": [
       "<div>\n",
       "<style scoped>\n",
       "    .dataframe tbody tr th:only-of-type {\n",
       "        vertical-align: middle;\n",
       "    }\n",
       "\n",
       "    .dataframe tbody tr th {\n",
       "        vertical-align: top;\n",
       "    }\n",
       "\n",
       "    .dataframe thead th {\n",
       "        text-align: right;\n",
       "    }\n",
       "</style>\n",
       "<table border=\"1\" class=\"dataframe\">\n",
       "  <thead>\n",
       "    <tr style=\"text-align: right;\">\n",
       "      <th></th>\n",
       "      <th>strMeal</th>\n",
       "      <th>strMealThumb</th>\n",
       "      <th>idMeal</th>\n",
       "    </tr>\n",
       "  </thead>\n",
       "  <tbody>\n",
       "    <tr>\n",
       "      <th>0</th>\n",
       "      <td>Chicken Couscous</td>\n",
       "      <td>https://www.themealdb.com/images/media/meals/q...</td>\n",
       "      <td>52850</td>\n",
       "    </tr>\n",
       "    <tr>\n",
       "      <th>1</th>\n",
       "      <td>Chicken Fajita Mac and Cheese</td>\n",
       "      <td>https://www.themealdb.com/images/media/meals/q...</td>\n",
       "      <td>52818</td>\n",
       "    </tr>\n",
       "    <tr>\n",
       "      <th>2</th>\n",
       "      <td>Chicken Ham and Leek Pie</td>\n",
       "      <td>https://www.themealdb.com/images/media/meals/x...</td>\n",
       "      <td>52875</td>\n",
       "    </tr>\n",
       "    <tr>\n",
       "      <th>3</th>\n",
       "      <td>General Tso's Chicken</td>\n",
       "      <td>https://www.themealdb.com/images/media/meals/1...</td>\n",
       "      <td>52951</td>\n",
       "    </tr>\n",
       "    <tr>\n",
       "      <th>4</th>\n",
       "      <td>Katsu Chicken curry</td>\n",
       "      <td>https://www.themealdb.com/images/media/meals/v...</td>\n",
       "      <td>52820</td>\n",
       "    </tr>\n",
       "    <tr>\n",
       "      <th>5</th>\n",
       "      <td>Rappie Pie</td>\n",
       "      <td>https://www.themealdb.com/images/media/meals/r...</td>\n",
       "      <td>52933</td>\n",
       "    </tr>\n",
       "  </tbody>\n",
       "</table>\n",
       "</div>"
      ],
      "text/plain": [
       "                         strMeal  \\\n",
       "0               Chicken Couscous   \n",
       "1  Chicken Fajita Mac and Cheese   \n",
       "2       Chicken Ham and Leek Pie   \n",
       "3          General Tso's Chicken   \n",
       "4            Katsu Chicken curry   \n",
       "5                     Rappie Pie   \n",
       "\n",
       "                                        strMealThumb idMeal  \n",
       "0  https://www.themealdb.com/images/media/meals/q...  52850  \n",
       "1  https://www.themealdb.com/images/media/meals/q...  52818  \n",
       "2  https://www.themealdb.com/images/media/meals/x...  52875  \n",
       "3  https://www.themealdb.com/images/media/meals/1...  52951  \n",
       "4  https://www.themealdb.com/images/media/meals/v...  52820  \n",
       "5  https://www.themealdb.com/images/media/meals/r...  52933  "
      ]
     },
     "execution_count": 3,
     "metadata": {},
     "output_type": "execute_result"
    }
   ],
   "source": [
    "# testing the function works\n",
    "meal_main_ingredient(\"chicken_breast\")"
   ]
  },
  {
   "cell_type": "code",
   "execution_count": 4,
   "metadata": {},
   "outputs": [
    {
     "data": {
      "text/html": [
       "<div>\n",
       "<style scoped>\n",
       "    .dataframe tbody tr th:only-of-type {\n",
       "        vertical-align: middle;\n",
       "    }\n",
       "\n",
       "    .dataframe tbody tr th {\n",
       "        vertical-align: top;\n",
       "    }\n",
       "\n",
       "    .dataframe thead th {\n",
       "        text-align: right;\n",
       "    }\n",
       "</style>\n",
       "<table border=\"1\" class=\"dataframe\">\n",
       "  <thead>\n",
       "    <tr style=\"text-align: right;\">\n",
       "      <th></th>\n",
       "      <th>strIngredient1</th>\n",
       "    </tr>\n",
       "  </thead>\n",
       "  <tbody>\n",
       "    <tr>\n",
       "      <th>0</th>\n",
       "      <td>Light rum</td>\n",
       "    </tr>\n",
       "    <tr>\n",
       "      <th>1</th>\n",
       "      <td>Applejack</td>\n",
       "    </tr>\n",
       "    <tr>\n",
       "      <th>2</th>\n",
       "      <td>Gin</td>\n",
       "    </tr>\n",
       "    <tr>\n",
       "      <th>3</th>\n",
       "      <td>Dark rum</td>\n",
       "    </tr>\n",
       "    <tr>\n",
       "      <th>4</th>\n",
       "      <td>Sweet Vermouth</td>\n",
       "    </tr>\n",
       "    <tr>\n",
       "      <th>...</th>\n",
       "      <td>...</td>\n",
       "    </tr>\n",
       "    <tr>\n",
       "      <th>95</th>\n",
       "      <td>7-Up</td>\n",
       "    </tr>\n",
       "    <tr>\n",
       "      <th>96</th>\n",
       "      <td>Blackberry brandy</td>\n",
       "    </tr>\n",
       "    <tr>\n",
       "      <th>97</th>\n",
       "      <td>Peppermint schnapps</td>\n",
       "    </tr>\n",
       "    <tr>\n",
       "      <th>98</th>\n",
       "      <td>Creme de Cassis</td>\n",
       "    </tr>\n",
       "    <tr>\n",
       "      <th>99</th>\n",
       "      <td>Jack Daniels</td>\n",
       "    </tr>\n",
       "  </tbody>\n",
       "</table>\n",
       "<p>100 rows × 1 columns</p>\n",
       "</div>"
      ],
      "text/plain": [
       "         strIngredient1\n",
       "0             Light rum\n",
       "1             Applejack\n",
       "2                   Gin\n",
       "3              Dark rum\n",
       "4        Sweet Vermouth\n",
       "..                  ...\n",
       "95                 7-Up\n",
       "96    Blackberry brandy\n",
       "97  Peppermint schnapps\n",
       "98      Creme de Cassis\n",
       "99         Jack Daniels\n",
       "\n",
       "[100 rows x 1 columns]"
      ]
     },
     "execution_count": 4,
     "metadata": {},
     "output_type": "execute_result"
    }
   ],
   "source": [
    "# Check the different values of the ingredients\n",
    "url_list_origin = \"https://www.themealdb.com/api/json/v1/1/list.php?i=list\"\n",
    "ra = requests.get(url_list_origin)\n",
    "df = pd.DataFrame(ra.json()[\"meals\"])\n",
    "df"
   ]
  },
  {
   "cell_type": "code",
   "execution_count": null,
   "metadata": {},
   "outputs": [],
   "source": []
  }
 ],
 "metadata": {
  "kernelspec": {
   "display_name": "Python 3",
   "language": "python",
   "name": "python3"
  },
  "language_info": {
   "codemirror_mode": {
    "name": "ipython",
    "version": 3
   },
   "file_extension": ".py",
   "mimetype": "text/x-python",
   "name": "python",
   "nbconvert_exporter": "python",
   "pygments_lexer": "ipython3",
   "version": "3.7.5"
  }
 },
 "nbformat": 4,
 "nbformat_minor": 2
}
