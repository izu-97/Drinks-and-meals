{
 "cells": [
  {
   "cell_type": "markdown",
   "metadata": {},
   "source": [
    "# Drinks and Meals\n"
   ]
  },
  {
   "cell_type": "code",
   "execution_count": 1,
   "metadata": {},
   "outputs": [],
   "source": [
    "import pandas as pd\n",
    "import requests\n",
    "import json\n",
    "import matplotlib\n",
    "pd.options.display.max_rows = 999\n",
    "pd.options.display.max_columns = 999\n",
    "pd.set_option(\"display.max_colwidth\", -1)\n",
    "\n",
    "%matplotlib inline"
   ]
  },
  {
   "cell_type": "code",
   "execution_count": 2,
   "metadata": {},
   "outputs": [],
   "source": [
    "ingridient_df = \"\"\n",
    "category_df = \"\"\n",
    "area_df = \"\""
   ]
  },
  {
   "cell_type": "markdown",
   "metadata": {},
   "source": [
    "## Start function"
   ]
  },
  {
   "cell_type": "code",
   "execution_count": 3,
   "metadata": {},
   "outputs": [],
   "source": [
    "#this function start the program calling the other functions\n",
    "\n",
    "def start():\n",
    "    print(\"welcome to your night what do you want to do drink or meal?\")\n",
    "    x = input().strip().lower()\n",
    "    if x == \"drinks\" or x == \"drink\":\n",
    "        return drink_option_choose()\n",
    "    elif x == \"meals\" or x == \"meal\":\n",
    "        return meal_option_choose()\n",
    "    else:\n",
    "        print(\"Sorry please choose a valide option\")\n",
    "        return start()\n",
    "    "
   ]
  },
  {
   "cell_type": "markdown",
   "metadata": {},
   "source": [
    "## Drinks functions"
   ]
  },
  {
   "cell_type": "markdown",
   "metadata": {},
   "source": [
    "### Choose drink options"
   ]
  },
  {
   "cell_type": "code",
   "execution_count": 4,
   "metadata": {},
   "outputs": [],
   "source": [
    "def drink_option_choose():\n",
    "    print(\"\"\"do you want to search by?\n",
    "Name, Main ingridient, Category\n",
    "    \"\"\")\n",
    "    x = input().strip().lower()\n",
    "    if x == \"name\":\n",
    "        return drink_name_choose()\n",
    "    elif x == \"ingridient\":\n",
    "        return drink_ingridient_choose()\n",
    "    elif x == \"category\":\n",
    "        return drink_category_choose()\n",
    "    else:\n",
    "        print(\"Sorry please choose a valide option\")\n",
    "        return drink_option_choose()"
   ]
  },
  {
   "cell_type": "markdown",
   "metadata": {},
   "source": [
    "### Drink name "
   ]
  },
  {
   "cell_type": "code",
   "execution_count": 5,
   "metadata": {},
   "outputs": [],
   "source": [
    "def drink_name_choose():\n",
    "    print(\"\"\"Choose your drink name\n",
    "    \"\"\")\n",
    "    x = input().strip().lower()\n",
    "    return drink(x)\n",
    "\n",
    "def drink(name):\n",
    "    url = f\"https://www.thecocktaildb.com/api/json/v1/1/search.php?s={str(name)}\"\n",
    "    r = requests.get(url)\n",
    "    df = pd.DataFrame(r.json()[\"drinks\"])\n",
    "    \n",
    "    \n",
    "    \n",
    "    #changes\n",
    "    if df.empty == True: \n",
    "        print(\"There are no matching drink names\")\n",
    "        return drink_name_choose()\n",
    "    else:\n",
    "        return df.dropna(axis='columns', how='all')"
   ]
  },
  {
   "cell_type": "markdown",
   "metadata": {},
   "source": [
    "### Drink ingridient"
   ]
  },
  {
   "cell_type": "code",
   "execution_count": 6,
   "metadata": {},
   "outputs": [],
   "source": [
    "def drink_ingridient_choose():\n",
    "    print(\"\"\"Choose your main ingridient\n",
    "    \"\"\")\n",
    "    x = input().strip().lower()\n",
    "    \n",
    "    \n",
    "    #changes\n",
    "    try:\n",
    "        return drink_main(x)\n",
    "    except: \n",
    "        print(\"There is no matching ingredient.\")\n",
    "        return drink_ingridient_choose()\n",
    "\n",
    "def drink_main(main):\n",
    "    global ingridient_df\n",
    "    url = f\"https://www.thecocktaildb.com/api/json/v1/1/filter.php?i={str(main)}\"\n",
    "    r = requests.get(url)\n",
    "    df = pd.DataFrame(r.json()[\"drinks\"])\n",
    "    display(df.dropna(axis='columns', how='all')[\"strDrink\"].to_frame())\n",
    "    ingridient_df = df\n",
    "    return drink_id_choose()    "
   ]
  },
  {
   "cell_type": "markdown",
   "metadata": {},
   "source": [
    "### Drink category\n"
   ]
  },
  {
   "cell_type": "code",
   "execution_count": 18,
   "metadata": {},
   "outputs": [],
   "source": [
    "# Search for drink category\n",
    "def drink_category_choose():\n",
    "    global category_df\n",
    "    print(\"\"\"this are the categories please choose the row you want to inspect\n",
    "    \"\"\")\n",
    "    url_list_origin = \"https://www.thecocktaildb.com/api/json/v1/1/list.php?c=list\"\n",
    "    ra = requests.get(url_list_origin)\n",
    "    df = pd.DataFrame(ra.json()[\"drinks\"])\n",
    "    category_df = df\n",
    "    display(df)\n",
    "    x = input().strip().lower()\n",
    "    try: \n",
    "        if int(x) < len(df):\n",
    "            return drink_category_row(x)\n",
    "    except:\n",
    "        print(\"Please choose a number inside of the index\")\n",
    "        return drink_category_choose()\n",
    "\n",
    "def drink_category_row(x):\n",
    "    global category_df\n",
    "    global ingridient_df\n",
    "    category = category_df.loc[int(x), \"strCategory\"]\n",
    "    url = f\"https://www.thecocktaildb.com/api/json/v1/1/filter.php?c={str(category)}\"\n",
    "    r = requests.get(url)\n",
    "    dfcat = pd.DataFrame(r.json()[\"drinks\"])\n",
    "    ingridient_df = dfcat\n",
    "    display(dfcat.dropna(axis='columns', how='all'))#.drop(columns=['strInstructions','strInstructionsDE','strCreativeCommonsConfirmed'], axis=1).transpose()\n",
    "    return drink_id_choose()"
   ]
  },
  {
   "cell_type": "markdown",
   "metadata": {},
   "source": [
    "### Drink id"
   ]
  },
  {
   "cell_type": "code",
   "execution_count": 23,
   "metadata": {},
   "outputs": [],
   "source": [
    "def drink_id_choose():\n",
    "    print(\"\"\"Choose the row you want to examine\n",
    "    \"\"\")\n",
    "    x = input().strip().lower()\n",
    "    try: \n",
    "        if int(x) < len(ingridient_df):\n",
    "            return drink_id(x)\n",
    "        elif int(x) > len(ingridient_df):\n",
    "            print(\"please choose a number inside of the ASSHOLE\")\n",
    "            return drink_id_choose()\n",
    "    except:\n",
    "        print(\"please choose a number inside of the ASSHOLE\")\n",
    "        return drink_id_choose()\n",
    "\n",
    "def drink_id(x):\n",
    "    global ingridient_df\n",
    "    id = ingridient_df.loc[int(x), \"idDrink\"]\n",
    "    url = f\"https://www.thecocktaildb.com/api/json/v1/1/lookup.php?i={id}\"\n",
    "    r = requests.get(url)\n",
    "    dfid = pd.DataFrame(r.json()[\"drinks\"])\n",
    "    display(dfid[\"strInstructions\"].to_frame())\n",
    "    display(dfid.dropna(axis='columns', how='all').drop(columns=['strInstructions','strInstructionsDE','strCreativeCommonsConfirmed'], axis=1).transpose())\n",
    "    return restart()"
   ]
  },
  {
   "cell_type": "markdown",
   "metadata": {},
   "source": [
    "## Meals Functions"
   ]
  },
  {
   "cell_type": "markdown",
   "metadata": {},
   "source": [
    "### Choose meals options"
   ]
  },
  {
   "cell_type": "code",
   "execution_count": 9,
   "metadata": {},
   "outputs": [],
   "source": [
    "def meal_choose():\n",
    "    print(\"what do you want to eat?\")\n",
    "    x = input(\"meal\").strip().lower()\n",
    "    return meal(x)\n",
    "\n",
    "def meal_option_choose():\n",
    "    print(\"\"\"do you want to search by?\n",
    "Name, Main ingridient, Category, Area\n",
    "    \"\"\")\n",
    "    x = input().strip().lower()\n",
    "    if x == \"name\" or x == \"names\":\n",
    "        return meal_name_choose()\n",
    "    elif x == \"ingridient\" or x == \"main\" or x == \"main ingridient\":\n",
    "        return meal_ingridient_choose()\n",
    "    elif x == \"category\" or x == \"categories\":\n",
    "        return meal_category_choose()\n",
    "    elif x == \"area\":\n",
    "        return meal_area_choose()\n",
    "    else:\n",
    "        print(\"Sorry please choose a valide option\")\n",
    "        return meal_option_choose()\n",
    "    "
   ]
  },
  {
   "cell_type": "markdown",
   "metadata": {},
   "source": [
    "### Name"
   ]
  },
  {
   "cell_type": "code",
   "execution_count": 10,
   "metadata": {},
   "outputs": [],
   "source": [
    "def meal_name_choose():\n",
    "    print(\"\"\"Choose your meal name\n",
    "    \"\"\")\n",
    "    x = input().strip().lower()\n",
    "    return meal(x)\n",
    "\n",
    "def meal(name):\n",
    "    url = f\"https://www.themealdb.com/api/json/v1/1/search.php?s={str(name)}\"\n",
    "    r = requests.get(url)\n",
    "    df = pd.DataFrame(r.json()[\"meals\"])\n",
    "    \n",
    "    \n",
    "    \n",
    "    #changes\n",
    "    if df.empty == True: \n",
    "        print(\"There are no matching meal names\")\n",
    "        return meal_name_choose()\n",
    "    else:\n",
    "        return df.dropna(axis='columns', how='all')"
   ]
  },
  {
   "cell_type": "markdown",
   "metadata": {},
   "source": [
    "### Meal ingridient"
   ]
  },
  {
   "cell_type": "code",
   "execution_count": 11,
   "metadata": {},
   "outputs": [],
   "source": [
    "def meal_ingridient_choose():\n",
    "    print(\"\"\"Choose your main ingridient\n",
    "    \"\"\")\n",
    "    x = input().strip().lower()\n",
    "    return meal_main(x)\n",
    "\n",
    "def meal_main(main):\n",
    "    global ingridient_df\n",
    "    url = f\"https://www.themealdb.com/api/json/v1/1/filter.php?i={str(main)}\"\n",
    "    r = requests.get(url)\n",
    "    df = pd.DataFrame(r.json()[\"meals\"])\n",
    "    display(df.dropna(axis='columns', how='all')[\"strMeal\"].to_frame())\n",
    "    ingridient_df = df\n",
    "    return meal_id_choose()    "
   ]
  },
  {
   "cell_type": "markdown",
   "metadata": {},
   "source": [
    "### Meal category"
   ]
  },
  {
   "cell_type": "code",
   "execution_count": 12,
   "metadata": {},
   "outputs": [],
   "source": [
    "def meal_category_choose():\n",
    "    global category_df\n",
    "    print(\"\"\"this are the categories please choose the row you want to inspect\n",
    "    \"\"\")\n",
    "    url_list_origin = \"https://www.themealdb.com/api/json/v1/1/list.php?c=list\"\n",
    "    ra = requests.get(url_list_origin)\n",
    "    df = pd.DataFrame(ra.json()[\"meals\"])\n",
    "    category_df = df\n",
    "    display(df)\n",
    "    x = input().strip().lower()\n",
    "    if int(x) < len(df):\n",
    "        return meal_category_row(x)\n",
    "    else:\n",
    "        print(\"please choose a number inside of the index\")\n",
    "        return meal_category_choose()\n",
    "\n",
    "def meal_category_row(x):\n",
    "    global category_df\n",
    "    global ingridient_df\n",
    "    category = category_df.loc[int(x), \"strCategory\"]\n",
    "    url = f\"https://www.themealdb.com/api/json/v1/1/filter.php?c={str(category)}\"\n",
    "    r = requests.get(url)\n",
    "    dfcat = pd.DataFrame(r.json()[\"meals\"])\n",
    "    ingridient_df = dfcat\n",
    "    display(dfcat.dropna(axis='columns', how='all'))#.drop(columns=['strInstructions','strInstructionsDE','strCreativeCommonsConfirmed'], axis=1).transpose()\n",
    "    print(\"\"\"please choose the row you want to inspect\n",
    "    \"\"\")\n",
    "    return meal_id_choose()"
   ]
  },
  {
   "cell_type": "markdown",
   "metadata": {},
   "source": [
    "### Meal area"
   ]
  },
  {
   "cell_type": "code",
   "execution_count": 13,
   "metadata": {},
   "outputs": [],
   "source": [
    "def meal_area_choose():\n",
    "    global area_df\n",
    "    print(\"\"\"this are the areas please choose the row you want to inspect\n",
    "    \"\"\")\n",
    "    url_list_origin = \"https://www.themealdb.com/api/json/v1/1/list.php?a=list\"\n",
    "    ra = requests.get(url_list_origin)\n",
    "    df = pd.DataFrame(ra.json()[\"meals\"])\n",
    "    area_df = df\n",
    "    display(df)\n",
    "    x = input().strip().lower()\n",
    "    if int(x) < len(df):\n",
    "        return meal_area_row(x)\n",
    "    else:\n",
    "        print(\"please choose a number inside of the index\")\n",
    "        return meal_area_choose()\n",
    "\n",
    "def meal_area_row(x):\n",
    "    global area_df\n",
    "    global ingridient_df\n",
    "    area = area_df.loc[int(x), \"strArea\"]\n",
    "    url = f\"https://www.themealdb.com/api/json/v1/1/filter.php?a={str(area)}\"\n",
    "    r = requests.get(url)\n",
    "    dfa = pd.DataFrame(r.json()[\"meals\"])\n",
    "    ingridient_df = dfa\n",
    "    display(dfa.dropna(axis='columns', how='all'))#.drop(columns=['strInstructions','strInstructionsDE','strCreativeCommonsConfirmed'], axis=1).transpose()\n",
    "    print(\"\"\"please choose the row you want to inspect\n",
    "    \"\"\")\n",
    "    return meal_id_choose()"
   ]
  },
  {
   "cell_type": "markdown",
   "metadata": {},
   "source": [
    "### Meal id"
   ]
  },
  {
   "cell_type": "code",
   "execution_count": 14,
   "metadata": {},
   "outputs": [],
   "source": [
    "def meal_id_choose():\n",
    "    global ingridient_df\n",
    "    print(\"\"\"Choose the row you want to examine\n",
    "    \"\"\")\n",
    "    x = input().strip().lower()\n",
    "    if int(x) < len(ingridient_df):\n",
    "        return meal_id(x)\n",
    "    else:\n",
    "        print(\"please choose a number inside of the index\")\n",
    "        return meal_id_choose()\n",
    "    \n",
    "def meal_id(x):\n",
    "    global ingridient_df\n",
    "    id = ingridient_df.loc[int(x), \"idMeal\"]\n",
    "    url = f\"https://www.themealdb.com/api/json/v1/1/lookup.php?i={id}\"\n",
    "    r = requests.get(url)\n",
    "    dfid = pd.DataFrame(r.json()[\"meals\"])\n",
    "    display(dfid[\"strInstructions\"].to_frame())\n",
    "    display(dfid.dropna(axis='columns', how='all').drop(columns=['strInstructions'], axis=1).transpose())\n",
    "    return restart()"
   ]
  },
  {
   "cell_type": "markdown",
   "metadata": {},
   "source": [
    "## Restart or break"
   ]
  },
  {
   "cell_type": "code",
   "execution_count": 15,
   "metadata": {},
   "outputs": [],
   "source": [
    "def restart():\n",
    "    global ingridient_df\n",
    "    global category_df\n",
    "    global area_df\n",
    "    print(\"do you want to restart the game\")\n",
    "    x = input().strip().lower()\n",
    "    if x == \"yes\":\n",
    "        ingridient_df = \"\"\n",
    "        category_df = \"\"\n",
    "        area_df = \"\"\n",
    "        return start()\n",
    "    elif x == \"no\":\n",
    "        return (\"Have a nice evening\")\n",
    "    else:\n",
    "        return restart()"
   ]
  },
  {
   "cell_type": "markdown",
   "metadata": {},
   "source": [
    "# This function start everything"
   ]
  },
  {
   "cell_type": "code",
   "execution_count": null,
   "metadata": {
    "scrolled": true
   },
   "outputs": [
    {
     "name": "stdout",
     "output_type": "stream",
     "text": [
      "welcome to your night what do you want to do drink or meal?\n",
      "drink\n",
      "do you want to search by?\n",
      "Name, Main ingridient, Category\n",
      "    \n",
      "category\n",
      "this are the categories please choose the row you want to inspect\n",
      "    \n"
     ]
    },
    {
     "data": {
      "text/html": [
       "<div>\n",
       "<style scoped>\n",
       "    .dataframe tbody tr th:only-of-type {\n",
       "        vertical-align: middle;\n",
       "    }\n",
       "\n",
       "    .dataframe tbody tr th {\n",
       "        vertical-align: top;\n",
       "    }\n",
       "\n",
       "    .dataframe thead th {\n",
       "        text-align: right;\n",
       "    }\n",
       "</style>\n",
       "<table border=\"1\" class=\"dataframe\">\n",
       "  <thead>\n",
       "    <tr style=\"text-align: right;\">\n",
       "      <th></th>\n",
       "      <th>strCategory</th>\n",
       "    </tr>\n",
       "  </thead>\n",
       "  <tbody>\n",
       "    <tr>\n",
       "      <th>0</th>\n",
       "      <td>Ordinary Drink</td>\n",
       "    </tr>\n",
       "    <tr>\n",
       "      <th>1</th>\n",
       "      <td>Cocktail</td>\n",
       "    </tr>\n",
       "    <tr>\n",
       "      <th>2</th>\n",
       "      <td>Milk / Float / Shake</td>\n",
       "    </tr>\n",
       "    <tr>\n",
       "      <th>3</th>\n",
       "      <td>Other/Unknown</td>\n",
       "    </tr>\n",
       "    <tr>\n",
       "      <th>4</th>\n",
       "      <td>Cocoa</td>\n",
       "    </tr>\n",
       "    <tr>\n",
       "      <th>5</th>\n",
       "      <td>Shot</td>\n",
       "    </tr>\n",
       "    <tr>\n",
       "      <th>6</th>\n",
       "      <td>Coffee / Tea</td>\n",
       "    </tr>\n",
       "    <tr>\n",
       "      <th>7</th>\n",
       "      <td>Homemade Liqueur</td>\n",
       "    </tr>\n",
       "    <tr>\n",
       "      <th>8</th>\n",
       "      <td>Punch / Party Drink</td>\n",
       "    </tr>\n",
       "    <tr>\n",
       "      <th>9</th>\n",
       "      <td>Beer</td>\n",
       "    </tr>\n",
       "    <tr>\n",
       "      <th>10</th>\n",
       "      <td>Soft Drink / Soda</td>\n",
       "    </tr>\n",
       "  </tbody>\n",
       "</table>\n",
       "</div>"
      ],
      "text/plain": [
       "             strCategory\n",
       "0   Ordinary Drink      \n",
       "1   Cocktail            \n",
       "2   Milk / Float / Shake\n",
       "3   Other/Unknown       \n",
       "4   Cocoa               \n",
       "5   Shot                \n",
       "6   Coffee / Tea        \n",
       "7   Homemade Liqueur    \n",
       "8   Punch / Party Drink \n",
       "9   Beer                \n",
       "10  Soft Drink / Soda   "
      ]
     },
     "metadata": {},
     "output_type": "display_data"
    },
    {
     "name": "stdout",
     "output_type": "stream",
     "text": [
      "9\n"
     ]
    },
    {
     "data": {
      "text/html": [
       "<div>\n",
       "<style scoped>\n",
       "    .dataframe tbody tr th:only-of-type {\n",
       "        vertical-align: middle;\n",
       "    }\n",
       "\n",
       "    .dataframe tbody tr th {\n",
       "        vertical-align: top;\n",
       "    }\n",
       "\n",
       "    .dataframe thead th {\n",
       "        text-align: right;\n",
       "    }\n",
       "</style>\n",
       "<table border=\"1\" class=\"dataframe\">\n",
       "  <thead>\n",
       "    <tr style=\"text-align: right;\">\n",
       "      <th></th>\n",
       "      <th>strDrink</th>\n",
       "      <th>strDrinkThumb</th>\n",
       "      <th>idDrink</th>\n",
       "    </tr>\n",
       "  </thead>\n",
       "  <tbody>\n",
       "    <tr>\n",
       "      <th>0</th>\n",
       "      <td>110 in the shade</td>\n",
       "      <td>https://www.thecocktaildb.com/images/media/drink/xxyywq1454511117.jpg</td>\n",
       "      <td>15423</td>\n",
       "    </tr>\n",
       "    <tr>\n",
       "      <th>1</th>\n",
       "      <td>Black &amp; Tan</td>\n",
       "      <td>https://www.thecocktaildb.com/images/media/drink/rwpswp1454511017.jpg</td>\n",
       "      <td>13282</td>\n",
       "    </tr>\n",
       "    <tr>\n",
       "      <th>2</th>\n",
       "      <td>Black and Brown</td>\n",
       "      <td>https://www.thecocktaildb.com/images/media/drink/wwuvxv1472668899.jpg</td>\n",
       "      <td>16403</td>\n",
       "    </tr>\n",
       "    <tr>\n",
       "      <th>3</th>\n",
       "      <td>Buccaneer</td>\n",
       "      <td>https://www.thecocktaildb.com/images/media/drink/upvtyt1441249023.jpg</td>\n",
       "      <td>17035</td>\n",
       "    </tr>\n",
       "    <tr>\n",
       "      <th>4</th>\n",
       "      <td>Campari Beer</td>\n",
       "      <td>https://www.thecocktaildb.com/images/media/drink/xsqrup1441249130.jpg</td>\n",
       "      <td>16047</td>\n",
       "    </tr>\n",
       "    <tr>\n",
       "      <th>5</th>\n",
       "      <td>Caribbean Boilermaker</td>\n",
       "      <td>https://www.thecocktaildb.com/images/media/drink/svsxsv1454511666.jpg</td>\n",
       "      <td>17065</td>\n",
       "    </tr>\n",
       "    <tr>\n",
       "      <th>6</th>\n",
       "      <td>Diesel</td>\n",
       "      <td>https://www.thecocktaildb.com/images/media/drink/sxrrqq1454512852.jpg</td>\n",
       "      <td>13128</td>\n",
       "    </tr>\n",
       "    <tr>\n",
       "      <th>7</th>\n",
       "      <td>Green Goblin</td>\n",
       "      <td>https://www.thecocktaildb.com/images/media/drink/qxprxr1454511520.jpg</td>\n",
       "      <td>13497</td>\n",
       "    </tr>\n",
       "    <tr>\n",
       "      <th>8</th>\n",
       "      <td>Irish Russian</td>\n",
       "      <td>https://www.thecocktaildb.com/images/media/drink/swqurw1454512730.jpg</td>\n",
       "      <td>17015</td>\n",
       "    </tr>\n",
       "    <tr>\n",
       "      <th>9</th>\n",
       "      <td>Limona Corona</td>\n",
       "      <td>https://www.thecocktaildb.com/images/media/drink/wwqrsw1441248662.jpg</td>\n",
       "      <td>15086</td>\n",
       "    </tr>\n",
       "    <tr>\n",
       "      <th>10</th>\n",
       "      <td>Lunch Box</td>\n",
       "      <td>https://www.thecocktaildb.com/images/media/drink/qywpvt1454512546.jpg</td>\n",
       "      <td>14378</td>\n",
       "    </tr>\n",
       "    <tr>\n",
       "      <th>11</th>\n",
       "      <td>Snake Bite (UK)</td>\n",
       "      <td>https://www.thecocktaildb.com/images/media/drink/xuwpyu1441248734.jpg</td>\n",
       "      <td>13389</td>\n",
       "    </tr>\n",
       "    <tr>\n",
       "      <th>12</th>\n",
       "      <td>Snakebite and Black</td>\n",
       "      <td>https://www.thecocktaildb.com/images/media/drink/rssvwv1441248863.jpg</td>\n",
       "      <td>15789</td>\n",
       "    </tr>\n",
       "  </tbody>\n",
       "</table>\n",
       "</div>"
      ],
      "text/plain": [
       "                 strDrink  \\\n",
       "0   110 in the shade        \n",
       "1   Black & Tan             \n",
       "2   Black and Brown         \n",
       "3   Buccaneer               \n",
       "4   Campari Beer            \n",
       "5   Caribbean Boilermaker   \n",
       "6   Diesel                  \n",
       "7   Green Goblin            \n",
       "8   Irish Russian           \n",
       "9   Limona Corona           \n",
       "10  Lunch Box               \n",
       "11  Snake Bite (UK)         \n",
       "12  Snakebite and Black     \n",
       "\n",
       "                                                            strDrinkThumb  \\\n",
       "0   https://www.thecocktaildb.com/images/media/drink/xxyywq1454511117.jpg   \n",
       "1   https://www.thecocktaildb.com/images/media/drink/rwpswp1454511017.jpg   \n",
       "2   https://www.thecocktaildb.com/images/media/drink/wwuvxv1472668899.jpg   \n",
       "3   https://www.thecocktaildb.com/images/media/drink/upvtyt1441249023.jpg   \n",
       "4   https://www.thecocktaildb.com/images/media/drink/xsqrup1441249130.jpg   \n",
       "5   https://www.thecocktaildb.com/images/media/drink/svsxsv1454511666.jpg   \n",
       "6   https://www.thecocktaildb.com/images/media/drink/sxrrqq1454512852.jpg   \n",
       "7   https://www.thecocktaildb.com/images/media/drink/qxprxr1454511520.jpg   \n",
       "8   https://www.thecocktaildb.com/images/media/drink/swqurw1454512730.jpg   \n",
       "9   https://www.thecocktaildb.com/images/media/drink/wwqrsw1441248662.jpg   \n",
       "10  https://www.thecocktaildb.com/images/media/drink/qywpvt1454512546.jpg   \n",
       "11  https://www.thecocktaildb.com/images/media/drink/xuwpyu1441248734.jpg   \n",
       "12  https://www.thecocktaildb.com/images/media/drink/rssvwv1441248863.jpg   \n",
       "\n",
       "   idDrink  \n",
       "0   15423   \n",
       "1   13282   \n",
       "2   16403   \n",
       "3   17035   \n",
       "4   16047   \n",
       "5   17065   \n",
       "6   13128   \n",
       "7   13497   \n",
       "8   17015   \n",
       "9   15086   \n",
       "10  14378   \n",
       "11  13389   \n",
       "12  15789   "
      ]
     },
     "metadata": {},
     "output_type": "display_data"
    },
    {
     "name": "stdout",
     "output_type": "stream",
     "text": [
      "Choose the row you want to examine\n",
      "    \n",
      "151\n",
      "please choose a number inside of the ASSHOLE\n",
      "Choose the row you want to examine\n",
      "    \n"
     ]
    }
   ],
   "source": [
    "start()"
   ]
  },
  {
   "cell_type": "code",
   "execution_count": null,
   "metadata": {},
   "outputs": [],
   "source": []
  }
 ],
 "metadata": {
  "kernelspec": {
   "display_name": "Python 3",
   "language": "python",
   "name": "python3"
  },
  "language_info": {
   "codemirror_mode": {
    "name": "ipython",
    "version": 3
   },
   "file_extension": ".py",
   "mimetype": "text/x-python",
   "name": "python",
   "nbconvert_exporter": "python",
   "pygments_lexer": "ipython3",
   "version": "3.7.4"
  }
 },
 "nbformat": 4,
 "nbformat_minor": 2
}
