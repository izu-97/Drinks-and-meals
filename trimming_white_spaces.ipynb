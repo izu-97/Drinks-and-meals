{
 "cells": [
  {
   "cell_type": "code",
   "execution_count": 1,
   "metadata": {},
   "outputs": [],
   "source": [
    "import pandas as pd\n",
    "import requests\n",
    "import json"
   ]
  },
  {
   "cell_type": "code",
   "execution_count": 2,
   "metadata": {},
   "outputs": [],
   "source": [
    "# function to get the meal data set\n",
    "def meal(name):\n",
    "    url = f\"https://www.themealdb.com/api/json/v1/1/search.php?s={str(name)}\"\n",
    "    r = requests.get(url)\n",
    "    df = pd.DataFrame(r.json()[\"meals\"])\n",
    "    return df.dropna(axis='columns', how='all')"
   ]
  },
  {
   "cell_type": "code",
   "execution_count": 3,
   "metadata": {},
   "outputs": [],
   "source": [
    "# function get meal based on id for testing\n",
    "def get_meal_id(id):\n",
    "    url = f\"https://www.themealdb.com/api/json/v1/1/lookup.php?i={id}\"\n",
    "    r = requests.get(url)\n",
    "    dfid = pd.DataFrame(r.json()[\"meals\"])\n",
    "    return dfid.dropna(axis='columns', how='all')\n"
   ]
  },
  {
   "cell_type": "code",
   "execution_count": 4,
   "metadata": {},
   "outputs": [
    {
     "data": {
      "text/html": [
       "<div>\n",
       "<style scoped>\n",
       "    .dataframe tbody tr th:only-of-type {\n",
       "        vertical-align: middle;\n",
       "    }\n",
       "\n",
       "    .dataframe tbody tr th {\n",
       "        vertical-align: top;\n",
       "    }\n",
       "\n",
       "    .dataframe thead th {\n",
       "        text-align: right;\n",
       "    }\n",
       "</style>\n",
       "<table border=\"1\" class=\"dataframe\">\n",
       "  <thead>\n",
       "    <tr style=\"text-align: right;\">\n",
       "      <th></th>\n",
       "      <th>idMeal</th>\n",
       "      <th>strMeal</th>\n",
       "      <th>strCategory</th>\n",
       "      <th>strArea</th>\n",
       "      <th>strInstructions</th>\n",
       "      <th>strMealThumb</th>\n",
       "      <th>strYoutube</th>\n",
       "      <th>strIngredient1</th>\n",
       "      <th>strIngredient2</th>\n",
       "      <th>strIngredient3</th>\n",
       "      <th>...</th>\n",
       "      <th>strMeasure12</th>\n",
       "      <th>strMeasure13</th>\n",
       "      <th>strMeasure14</th>\n",
       "      <th>strMeasure15</th>\n",
       "      <th>strMeasure16</th>\n",
       "      <th>strMeasure17</th>\n",
       "      <th>strMeasure18</th>\n",
       "      <th>strMeasure19</th>\n",
       "      <th>strMeasure20</th>\n",
       "      <th>strSource</th>\n",
       "    </tr>\n",
       "  </thead>\n",
       "  <tbody>\n",
       "    <tr>\n",
       "      <th>0</th>\n",
       "      <td>52795</td>\n",
       "      <td>Chicken Handi</td>\n",
       "      <td>Chicken</td>\n",
       "      <td>Indian</td>\n",
       "      <td>Take a large pot or wok, big enough to cook al...</td>\n",
       "      <td>https://www.themealdb.com/images/media/meals/w...</td>\n",
       "      <td>https://www.youtube.com/watch?v=IO0issT0Rmc</td>\n",
       "      <td>Chicken</td>\n",
       "      <td>Onion</td>\n",
       "      <td>Tomatoes</td>\n",
       "      <td>...</td>\n",
       "      <td>1 cup</td>\n",
       "      <td>¾ cup</td>\n",
       "      <td>3 tsp Dried</td>\n",
       "      <td>1 tsp</td>\n",
       "      <td>To taste</td>\n",
       "      <td></td>\n",
       "      <td></td>\n",
       "      <td></td>\n",
       "      <td></td>\n",
       "      <td></td>\n",
       "    </tr>\n",
       "  </tbody>\n",
       "</table>\n",
       "<p>1 rows × 48 columns</p>\n",
       "</div>"
      ],
      "text/plain": [
       "  idMeal        strMeal strCategory strArea  \\\n",
       "0  52795  Chicken Handi     Chicken  Indian   \n",
       "\n",
       "                                     strInstructions  \\\n",
       "0  Take a large pot or wok, big enough to cook al...   \n",
       "\n",
       "                                        strMealThumb  \\\n",
       "0  https://www.themealdb.com/images/media/meals/w...   \n",
       "\n",
       "                                    strYoutube strIngredient1 strIngredient2  \\\n",
       "0  https://www.youtube.com/watch?v=IO0issT0Rmc        Chicken          Onion   \n",
       "\n",
       "  strIngredient3  ... strMeasure12 strMeasure13 strMeasure14 strMeasure15  \\\n",
       "0       Tomatoes  ...        1 cup        ¾ cup  3 tsp Dried        1 tsp   \n",
       "\n",
       "  strMeasure16 strMeasure17 strMeasure18 strMeasure19 strMeasure20 strSource  \n",
       "0     To taste                                                                \n",
       "\n",
       "[1 rows x 48 columns]"
      ]
     },
     "execution_count": 4,
     "metadata": {},
     "output_type": "execute_result"
    }
   ],
   "source": [
    "# get one example\n",
    "df = get_meal_id(52795)\n",
    "df"
   ]
  },
  {
   "cell_type": "code",
   "execution_count": 5,
   "metadata": {},
   "outputs": [],
   "source": [
    "# strip every column content, function found\n",
    "df = df.apply(lambda x: x.str.strip() if x.dtype == \"object\" else x)\n"
   ]
  },
  {
   "cell_type": "code",
   "execution_count": 6,
   "metadata": {},
   "outputs": [
    {
     "data": {
      "text/html": [
       "<div>\n",
       "<style scoped>\n",
       "    .dataframe tbody tr th:only-of-type {\n",
       "        vertical-align: middle;\n",
       "    }\n",
       "\n",
       "    .dataframe tbody tr th {\n",
       "        vertical-align: top;\n",
       "    }\n",
       "\n",
       "    .dataframe thead th {\n",
       "        text-align: right;\n",
       "    }\n",
       "</style>\n",
       "<table border=\"1\" class=\"dataframe\">\n",
       "  <thead>\n",
       "    <tr style=\"text-align: right;\">\n",
       "      <th></th>\n",
       "      <th>idMeal</th>\n",
       "      <th>strMeal</th>\n",
       "      <th>strCategory</th>\n",
       "      <th>strArea</th>\n",
       "      <th>strInstructions</th>\n",
       "      <th>strMealThumb</th>\n",
       "      <th>strYoutube</th>\n",
       "      <th>strIngredient1</th>\n",
       "      <th>strIngredient2</th>\n",
       "      <th>strIngredient3</th>\n",
       "      <th>...</th>\n",
       "      <th>strMeasure12</th>\n",
       "      <th>strMeasure13</th>\n",
       "      <th>strMeasure14</th>\n",
       "      <th>strMeasure15</th>\n",
       "      <th>strMeasure16</th>\n",
       "      <th>strMeasure17</th>\n",
       "      <th>strMeasure18</th>\n",
       "      <th>strMeasure19</th>\n",
       "      <th>strMeasure20</th>\n",
       "      <th>strSource</th>\n",
       "    </tr>\n",
       "  </thead>\n",
       "  <tbody>\n",
       "    <tr>\n",
       "      <th>0</th>\n",
       "      <td>52795</td>\n",
       "      <td>Chicken Handi</td>\n",
       "      <td>Chicken</td>\n",
       "      <td>Indian</td>\n",
       "      <td>Take a large pot or wok, big enough to cook al...</td>\n",
       "      <td>https://www.themealdb.com/images/media/meals/w...</td>\n",
       "      <td>https://www.youtube.com/watch?v=IO0issT0Rmc</td>\n",
       "      <td>Chicken</td>\n",
       "      <td>Onion</td>\n",
       "      <td>Tomatoes</td>\n",
       "      <td>...</td>\n",
       "      <td>1 cup</td>\n",
       "      <td>¾ cup</td>\n",
       "      <td>3 tsp Dried</td>\n",
       "      <td>1 tsp</td>\n",
       "      <td>To taste</td>\n",
       "      <td></td>\n",
       "      <td></td>\n",
       "      <td></td>\n",
       "      <td></td>\n",
       "      <td></td>\n",
       "    </tr>\n",
       "  </tbody>\n",
       "</table>\n",
       "<p>1 rows × 48 columns</p>\n",
       "</div>"
      ],
      "text/plain": [
       "  idMeal        strMeal strCategory strArea  \\\n",
       "0  52795  Chicken Handi     Chicken  Indian   \n",
       "\n",
       "                                     strInstructions  \\\n",
       "0  Take a large pot or wok, big enough to cook al...   \n",
       "\n",
       "                                        strMealThumb  \\\n",
       "0  https://www.themealdb.com/images/media/meals/w...   \n",
       "\n",
       "                                    strYoutube strIngredient1 strIngredient2  \\\n",
       "0  https://www.youtube.com/watch?v=IO0issT0Rmc        Chicken          Onion   \n",
       "\n",
       "  strIngredient3  ... strMeasure12 strMeasure13 strMeasure14 strMeasure15  \\\n",
       "0       Tomatoes  ...        1 cup        ¾ cup  3 tsp Dried        1 tsp   \n",
       "\n",
       "  strMeasure16 strMeasure17 strMeasure18 strMeasure19 strMeasure20 strSource  \n",
       "0     To taste                                                                \n",
       "\n",
       "[1 rows x 48 columns]"
      ]
     },
     "execution_count": 6,
     "metadata": {},
     "output_type": "execute_result"
    }
   ],
   "source": [
    "# try to replace \"\" values, not working\n",
    "df = df.replace(to_replace = \"\", value = None)\n",
    "df.dropna(axis=\"columns\", how=\"all\")"
   ]
  },
  {
   "cell_type": "code",
   "execution_count": 7,
   "metadata": {},
   "outputs": [
    {
     "data": {
      "text/plain": [
       "0    False\n",
       "Name: strMeasure16, dtype: bool"
      ]
     },
     "execution_count": 7,
     "metadata": {},
     "output_type": "execute_result"
    }
   ],
   "source": [
    "# check if value \"\" provides a boolean\n",
    "df.strMeasure16 == \"\""
   ]
  },
  {
   "cell_type": "code",
   "execution_count": 8,
   "metadata": {},
   "outputs": [
    {
     "data": {
      "text/plain": [
       "0    True\n",
       "Name: strMeasure17, dtype: bool"
      ]
     },
     "execution_count": 8,
     "metadata": {},
     "output_type": "execute_result"
    }
   ],
   "source": [
    "# check if the opposite works as well\n",
    "df.strMeasure17 == \"\""
   ]
  },
  {
   "cell_type": "code",
   "execution_count": 9,
   "metadata": {},
   "outputs": [],
   "source": [
    "# create a list with every column value which is empty\n",
    "ls = []\n",
    "for i in list(df.columns):\n",
    "    if df[i].any() == '':\n",
    "        ls.append(i)"
   ]
  },
  {
   "cell_type": "code",
   "execution_count": 10,
   "metadata": {},
   "outputs": [
    {
     "data": {
      "text/plain": [
       "['strIngredient17',\n",
       " 'strIngredient18',\n",
       " 'strIngredient19',\n",
       " 'strIngredient20',\n",
       " 'strMeasure17',\n",
       " 'strMeasure18',\n",
       " 'strMeasure19',\n",
       " 'strMeasure20',\n",
       " 'strSource']"
      ]
     },
     "execution_count": 10,
     "metadata": {},
     "output_type": "execute_result"
    }
   ],
   "source": [
    "# works :)\n",
    "ls"
   ]
  },
  {
   "cell_type": "code",
   "execution_count": 12,
   "metadata": {},
   "outputs": [
    {
     "data": {
      "text/html": [
       "<div>\n",
       "<style scoped>\n",
       "    .dataframe tbody tr th:only-of-type {\n",
       "        vertical-align: middle;\n",
       "    }\n",
       "\n",
       "    .dataframe tbody tr th {\n",
       "        vertical-align: top;\n",
       "    }\n",
       "\n",
       "    .dataframe thead th {\n",
       "        text-align: right;\n",
       "    }\n",
       "</style>\n",
       "<table border=\"1\" class=\"dataframe\">\n",
       "  <thead>\n",
       "    <tr style=\"text-align: right;\">\n",
       "      <th></th>\n",
       "      <th>idMeal</th>\n",
       "      <th>strMeal</th>\n",
       "      <th>strCategory</th>\n",
       "      <th>strArea</th>\n",
       "      <th>strInstructions</th>\n",
       "      <th>strMealThumb</th>\n",
       "      <th>strYoutube</th>\n",
       "      <th>strIngredient1</th>\n",
       "      <th>strIngredient2</th>\n",
       "      <th>strIngredient3</th>\n",
       "      <th>...</th>\n",
       "      <th>strMeasure7</th>\n",
       "      <th>strMeasure8</th>\n",
       "      <th>strMeasure9</th>\n",
       "      <th>strMeasure10</th>\n",
       "      <th>strMeasure11</th>\n",
       "      <th>strMeasure12</th>\n",
       "      <th>strMeasure13</th>\n",
       "      <th>strMeasure14</th>\n",
       "      <th>strMeasure15</th>\n",
       "      <th>strMeasure16</th>\n",
       "    </tr>\n",
       "  </thead>\n",
       "  <tbody>\n",
       "    <tr>\n",
       "      <th>0</th>\n",
       "      <td>52795</td>\n",
       "      <td>Chicken Handi</td>\n",
       "      <td>Chicken</td>\n",
       "      <td>Indian</td>\n",
       "      <td>Take a large pot or wok, big enough to cook al...</td>\n",
       "      <td>https://www.themealdb.com/images/media/meals/w...</td>\n",
       "      <td>https://www.youtube.com/watch?v=IO0issT0Rmc</td>\n",
       "      <td>Chicken</td>\n",
       "      <td>Onion</td>\n",
       "      <td>Tomatoes</td>\n",
       "      <td>...</td>\n",
       "      <td>2 tsp</td>\n",
       "      <td>3 tsp</td>\n",
       "      <td>1 tsp</td>\n",
       "      <td>1 tsp</td>\n",
       "      <td>2</td>\n",
       "      <td>1 cup</td>\n",
       "      <td>¾ cup</td>\n",
       "      <td>3 tsp Dried</td>\n",
       "      <td>1 tsp</td>\n",
       "      <td>To taste</td>\n",
       "    </tr>\n",
       "  </tbody>\n",
       "</table>\n",
       "<p>1 rows × 39 columns</p>\n",
       "</div>"
      ],
      "text/plain": [
       "  idMeal        strMeal strCategory strArea  \\\n",
       "0  52795  Chicken Handi     Chicken  Indian   \n",
       "\n",
       "                                     strInstructions  \\\n",
       "0  Take a large pot or wok, big enough to cook al...   \n",
       "\n",
       "                                        strMealThumb  \\\n",
       "0  https://www.themealdb.com/images/media/meals/w...   \n",
       "\n",
       "                                    strYoutube strIngredient1 strIngredient2  \\\n",
       "0  https://www.youtube.com/watch?v=IO0issT0Rmc        Chicken          Onion   \n",
       "\n",
       "  strIngredient3  ... strMeasure7 strMeasure8 strMeasure9 strMeasure10  \\\n",
       "0       Tomatoes  ...       2 tsp       3 tsp       1 tsp        1 tsp   \n",
       "\n",
       "  strMeasure11 strMeasure12 strMeasure13 strMeasure14 strMeasure15  \\\n",
       "0            2        1 cup        ¾ cup  3 tsp Dried        1 tsp   \n",
       "\n",
       "  strMeasure16  \n",
       "0     To taste  \n",
       "\n",
       "[1 rows x 39 columns]"
      ]
     },
     "execution_count": 12,
     "metadata": {},
     "output_type": "execute_result"
    }
   ],
   "source": [
    "df.drop(columns = ls)"
   ]
  },
  {
   "cell_type": "code",
   "execution_count": 13,
   "metadata": {},
   "outputs": [],
   "source": [
    "# function to clean empty columns\n",
    "\n",
    "def drop_empty_columns(df):\n",
    "    ls = []\n",
    "    df = df.apply(lambda x: x.str.strip() if x.dtype == \"object\" else x)\n",
    "    for i in list(df.columns):\n",
    "        if df[i].any() == '':\n",
    "            ls.append(i)\n",
    "    return df.drop(columns = ls)"
   ]
  },
  {
   "cell_type": "code",
   "execution_count": 14,
   "metadata": {},
   "outputs": [],
   "source": [
    "# checking if it works\n",
    "df = get_meal_id(52795)"
   ]
  },
  {
   "cell_type": "code",
   "execution_count": 15,
   "metadata": {},
   "outputs": [
    {
     "data": {
      "text/html": [
       "<div>\n",
       "<style scoped>\n",
       "    .dataframe tbody tr th:only-of-type {\n",
       "        vertical-align: middle;\n",
       "    }\n",
       "\n",
       "    .dataframe tbody tr th {\n",
       "        vertical-align: top;\n",
       "    }\n",
       "\n",
       "    .dataframe thead th {\n",
       "        text-align: right;\n",
       "    }\n",
       "</style>\n",
       "<table border=\"1\" class=\"dataframe\">\n",
       "  <thead>\n",
       "    <tr style=\"text-align: right;\">\n",
       "      <th></th>\n",
       "      <th>idMeal</th>\n",
       "      <th>strMeal</th>\n",
       "      <th>strCategory</th>\n",
       "      <th>strArea</th>\n",
       "      <th>strInstructions</th>\n",
       "      <th>strMealThumb</th>\n",
       "      <th>strYoutube</th>\n",
       "      <th>strIngredient1</th>\n",
       "      <th>strIngredient2</th>\n",
       "      <th>strIngredient3</th>\n",
       "      <th>...</th>\n",
       "      <th>strMeasure12</th>\n",
       "      <th>strMeasure13</th>\n",
       "      <th>strMeasure14</th>\n",
       "      <th>strMeasure15</th>\n",
       "      <th>strMeasure16</th>\n",
       "      <th>strMeasure17</th>\n",
       "      <th>strMeasure18</th>\n",
       "      <th>strMeasure19</th>\n",
       "      <th>strMeasure20</th>\n",
       "      <th>strSource</th>\n",
       "    </tr>\n",
       "  </thead>\n",
       "  <tbody>\n",
       "    <tr>\n",
       "      <th>0</th>\n",
       "      <td>52795</td>\n",
       "      <td>Chicken Handi</td>\n",
       "      <td>Chicken</td>\n",
       "      <td>Indian</td>\n",
       "      <td>Take a large pot or wok, big enough to cook al...</td>\n",
       "      <td>https://www.themealdb.com/images/media/meals/w...</td>\n",
       "      <td>https://www.youtube.com/watch?v=IO0issT0Rmc</td>\n",
       "      <td>Chicken</td>\n",
       "      <td>Onion</td>\n",
       "      <td>Tomatoes</td>\n",
       "      <td>...</td>\n",
       "      <td>1 cup</td>\n",
       "      <td>¾ cup</td>\n",
       "      <td>3 tsp Dried</td>\n",
       "      <td>1 tsp</td>\n",
       "      <td>To taste</td>\n",
       "      <td></td>\n",
       "      <td></td>\n",
       "      <td></td>\n",
       "      <td></td>\n",
       "      <td></td>\n",
       "    </tr>\n",
       "  </tbody>\n",
       "</table>\n",
       "<p>1 rows × 48 columns</p>\n",
       "</div>"
      ],
      "text/plain": [
       "  idMeal        strMeal strCategory strArea  \\\n",
       "0  52795  Chicken Handi     Chicken  Indian   \n",
       "\n",
       "                                     strInstructions  \\\n",
       "0  Take a large pot or wok, big enough to cook al...   \n",
       "\n",
       "                                        strMealThumb  \\\n",
       "0  https://www.themealdb.com/images/media/meals/w...   \n",
       "\n",
       "                                    strYoutube strIngredient1 strIngredient2  \\\n",
       "0  https://www.youtube.com/watch?v=IO0issT0Rmc        Chicken          Onion   \n",
       "\n",
       "  strIngredient3  ... strMeasure12 strMeasure13 strMeasure14 strMeasure15  \\\n",
       "0       Tomatoes  ...        1 cup        ¾ cup  3 tsp Dried        1 tsp   \n",
       "\n",
       "  strMeasure16 strMeasure17 strMeasure18 strMeasure19 strMeasure20 strSource  \n",
       "0     To taste                                                                \n",
       "\n",
       "[1 rows x 48 columns]"
      ]
     },
     "execution_count": 15,
     "metadata": {},
     "output_type": "execute_result"
    }
   ],
   "source": [
    "df"
   ]
  },
  {
   "cell_type": "code",
   "execution_count": 17,
   "metadata": {},
   "outputs": [],
   "source": [
    "df = drop_empty_columns(df)"
   ]
  },
  {
   "cell_type": "code",
   "execution_count": 18,
   "metadata": {},
   "outputs": [
    {
     "data": {
      "text/html": [
       "<div>\n",
       "<style scoped>\n",
       "    .dataframe tbody tr th:only-of-type {\n",
       "        vertical-align: middle;\n",
       "    }\n",
       "\n",
       "    .dataframe tbody tr th {\n",
       "        vertical-align: top;\n",
       "    }\n",
       "\n",
       "    .dataframe thead th {\n",
       "        text-align: right;\n",
       "    }\n",
       "</style>\n",
       "<table border=\"1\" class=\"dataframe\">\n",
       "  <thead>\n",
       "    <tr style=\"text-align: right;\">\n",
       "      <th></th>\n",
       "      <th>idMeal</th>\n",
       "      <th>strMeal</th>\n",
       "      <th>strCategory</th>\n",
       "      <th>strArea</th>\n",
       "      <th>strInstructions</th>\n",
       "      <th>strMealThumb</th>\n",
       "      <th>strYoutube</th>\n",
       "      <th>strIngredient1</th>\n",
       "      <th>strIngredient2</th>\n",
       "      <th>strIngredient3</th>\n",
       "      <th>...</th>\n",
       "      <th>strMeasure7</th>\n",
       "      <th>strMeasure8</th>\n",
       "      <th>strMeasure9</th>\n",
       "      <th>strMeasure10</th>\n",
       "      <th>strMeasure11</th>\n",
       "      <th>strMeasure12</th>\n",
       "      <th>strMeasure13</th>\n",
       "      <th>strMeasure14</th>\n",
       "      <th>strMeasure15</th>\n",
       "      <th>strMeasure16</th>\n",
       "    </tr>\n",
       "  </thead>\n",
       "  <tbody>\n",
       "    <tr>\n",
       "      <th>0</th>\n",
       "      <td>52795</td>\n",
       "      <td>Chicken Handi</td>\n",
       "      <td>Chicken</td>\n",
       "      <td>Indian</td>\n",
       "      <td>Take a large pot or wok, big enough to cook al...</td>\n",
       "      <td>https://www.themealdb.com/images/media/meals/w...</td>\n",
       "      <td>https://www.youtube.com/watch?v=IO0issT0Rmc</td>\n",
       "      <td>Chicken</td>\n",
       "      <td>Onion</td>\n",
       "      <td>Tomatoes</td>\n",
       "      <td>...</td>\n",
       "      <td>2 tsp</td>\n",
       "      <td>3 tsp</td>\n",
       "      <td>1 tsp</td>\n",
       "      <td>1 tsp</td>\n",
       "      <td>2</td>\n",
       "      <td>1 cup</td>\n",
       "      <td>¾ cup</td>\n",
       "      <td>3 tsp Dried</td>\n",
       "      <td>1 tsp</td>\n",
       "      <td>To taste</td>\n",
       "    </tr>\n",
       "  </tbody>\n",
       "</table>\n",
       "<p>1 rows × 39 columns</p>\n",
       "</div>"
      ],
      "text/plain": [
       "  idMeal        strMeal strCategory strArea  \\\n",
       "0  52795  Chicken Handi     Chicken  Indian   \n",
       "\n",
       "                                     strInstructions  \\\n",
       "0  Take a large pot or wok, big enough to cook al...   \n",
       "\n",
       "                                        strMealThumb  \\\n",
       "0  https://www.themealdb.com/images/media/meals/w...   \n",
       "\n",
       "                                    strYoutube strIngredient1 strIngredient2  \\\n",
       "0  https://www.youtube.com/watch?v=IO0issT0Rmc        Chicken          Onion   \n",
       "\n",
       "  strIngredient3  ... strMeasure7 strMeasure8 strMeasure9 strMeasure10  \\\n",
       "0       Tomatoes  ...       2 tsp       3 tsp       1 tsp        1 tsp   \n",
       "\n",
       "  strMeasure11 strMeasure12 strMeasure13 strMeasure14 strMeasure15  \\\n",
       "0            2        1 cup        ¾ cup  3 tsp Dried        1 tsp   \n",
       "\n",
       "  strMeasure16  \n",
       "0     To taste  \n",
       "\n",
       "[1 rows x 39 columns]"
      ]
     },
     "execution_count": 18,
     "metadata": {},
     "output_type": "execute_result"
    }
   ],
   "source": [
    "df"
   ]
  },
  {
   "cell_type": "code",
   "execution_count": null,
   "metadata": {},
   "outputs": [],
   "source": []
  }
 ],
 "metadata": {
  "kernelspec": {
   "display_name": "Python 3",
   "language": "python",
   "name": "python3"
  },
  "language_info": {
   "codemirror_mode": {
    "name": "ipython",
    "version": 3
   },
   "file_extension": ".py",
   "mimetype": "text/x-python",
   "name": "python",
   "nbconvert_exporter": "python",
   "pygments_lexer": "ipython3",
   "version": "3.7.5"
  }
 },
 "nbformat": 4,
 "nbformat_minor": 2
}
